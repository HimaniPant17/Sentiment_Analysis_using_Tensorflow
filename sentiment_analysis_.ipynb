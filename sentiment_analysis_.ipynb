{
 "cells": [
  {
   "cell_type": "code",
   "execution_count": 1,
   "id": "0170e58b",
   "metadata": {},
   "outputs": [],
   "source": [
    "import tensorflow as tf\n",
    "import tensorflow_hub as hub\n",
    "import pandas as pd"
   ]
  },
  {
   "cell_type": "code",
   "execution_count": 2,
   "id": "7b08ea7b",
   "metadata": {},
   "outputs": [
    {
     "data": {
      "text/plain": [
       "'2.6.0'"
      ]
     },
     "execution_count": 2,
     "metadata": {},
     "output_type": "execute_result"
    }
   ],
   "source": [
    "tf.__version__"
   ]
  },
  {
   "cell_type": "code",
   "execution_count": 3,
   "id": "35b7dbed",
   "metadata": {},
   "outputs": [
    {
     "name": "stdout",
     "output_type": "stream",
     "text": [
      "Requirement already satisfied: tensorflow-datasets in c:\\users\\user\\anaconda3\\lib\\site-packages (4.4.0)\n",
      "Requirement already satisfied: dill in c:\\users\\user\\anaconda3\\lib\\site-packages (from tensorflow-datasets) (0.3.4)\n",
      "Requirement already satisfied: numpy in c:\\users\\user\\anaconda3\\lib\\site-packages (from tensorflow-datasets) (1.19.5)\n",
      "Requirement already satisfied: absl-py in c:\\users\\user\\anaconda3\\lib\\site-packages (from tensorflow-datasets) (0.12.0)\n",
      "Requirement already satisfied: tensorflow-metadata in c:\\users\\user\\anaconda3\\lib\\site-packages (from tensorflow-datasets) (1.2.0)\n",
      "Requirement already satisfied: importlib-resources in c:\\users\\user\\anaconda3\\lib\\site-packages (from tensorflow-datasets) (5.2.2)\n",
      "Requirement already satisfied: requests>=2.19.0 in c:\\users\\user\\anaconda3\\lib\\site-packages (from tensorflow-datasets) (2.25.1)\n",
      "Requirement already satisfied: termcolor in c:\\users\\user\\anaconda3\\lib\\site-packages (from tensorflow-datasets) (1.1.0)\n",
      "Requirement already satisfied: protobuf>=3.12.2 in c:\\users\\user\\anaconda3\\lib\\site-packages (from tensorflow-datasets) (3.17.3)\n",
      "Requirement already satisfied: tqdm in c:\\users\\user\\anaconda3\\lib\\site-packages (from tensorflow-datasets) (4.59.0)\n",
      "Requirement already satisfied: six in c:\\users\\user\\anaconda3\\lib\\site-packages (from tensorflow-datasets) (1.15.0)\n",
      "Requirement already satisfied: promise in c:\\users\\user\\anaconda3\\lib\\site-packages (from tensorflow-datasets) (2.3)\n",
      "Requirement already satisfied: future in c:\\users\\user\\anaconda3\\lib\\site-packages (from tensorflow-datasets) (0.18.2)\n",
      "Requirement already satisfied: attrs>=18.1.0 in c:\\users\\user\\anaconda3\\lib\\site-packages (from tensorflow-datasets) (20.3.0)\n",
      "Requirement already satisfied: certifi>=2017.4.17 in c:\\users\\user\\anaconda3\\lib\\site-packages (from requests>=2.19.0->tensorflow-datasets) (2020.12.5)\n",
      "Requirement already satisfied: urllib3<1.27,>=1.21.1 in c:\\users\\user\\anaconda3\\lib\\site-packages (from requests>=2.19.0->tensorflow-datasets) (1.26.4)\n",
      "Requirement already satisfied: idna<3,>=2.5 in c:\\users\\user\\anaconda3\\lib\\site-packages (from requests>=2.19.0->tensorflow-datasets) (2.10)\n",
      "Requirement already satisfied: chardet<5,>=3.0.2 in c:\\users\\user\\anaconda3\\lib\\site-packages (from requests>=2.19.0->tensorflow-datasets) (4.0.0)\n",
      "Requirement already satisfied: zipp>=3.1.0 in c:\\users\\user\\anaconda3\\lib\\site-packages (from importlib-resources->tensorflow-datasets) (3.4.1)\n",
      "Requirement already satisfied: googleapis-common-protos<2,>=1.52.0 in c:\\users\\user\\anaconda3\\lib\\site-packages (from tensorflow-metadata->tensorflow-datasets) (1.53.0)\n",
      "Note: you may need to restart the kernel to use updated packages.\n"
     ]
    }
   ],
   "source": [
    "pip install tensorflow-datasets"
   ]
  },
  {
   "cell_type": "code",
   "execution_count": 4,
   "id": "0c1faf8a",
   "metadata": {},
   "outputs": [],
   "source": [
    "import tensorflow_datasets as tfds"
   ]
  },
  {
   "cell_type": "code",
   "execution_count": 5,
   "id": "2fd2a374",
   "metadata": {},
   "outputs": [
    {
     "data": {
      "text/plain": [
       "['abstract_reasoning',\n",
       " 'accentdb',\n",
       " 'aeslc',\n",
       " 'aflw2k3d',\n",
       " 'ag_news_subset',\n",
       " 'ai2_arc',\n",
       " 'ai2_arc_with_ir',\n",
       " 'amazon_us_reviews',\n",
       " 'anli',\n",
       " 'arc',\n",
       " 'bair_robot_pushing_small',\n",
       " 'bccd',\n",
       " 'beans',\n",
       " 'big_patent',\n",
       " 'bigearthnet',\n",
       " 'billsum',\n",
       " 'binarized_mnist',\n",
       " 'binary_alpha_digits',\n",
       " 'blimp',\n",
       " 'bool_q',\n",
       " 'c4',\n",
       " 'caltech101',\n",
       " 'caltech_birds2010',\n",
       " 'caltech_birds2011',\n",
       " 'cars196',\n",
       " 'cassava',\n",
       " 'cats_vs_dogs',\n",
       " 'celeb_a',\n",
       " 'celeb_a_hq',\n",
       " 'cfq',\n",
       " 'cherry_blossoms',\n",
       " 'chexpert',\n",
       " 'cifar10',\n",
       " 'cifar100',\n",
       " 'cifar10_1',\n",
       " 'cifar10_corrupted',\n",
       " 'citrus_leaves',\n",
       " 'cityscapes',\n",
       " 'civil_comments',\n",
       " 'clevr',\n",
       " 'clic',\n",
       " 'clinc_oos',\n",
       " 'cmaterdb',\n",
       " 'cnn_dailymail',\n",
       " 'coco',\n",
       " 'coco_captions',\n",
       " 'coil100',\n",
       " 'colorectal_histology',\n",
       " 'colorectal_histology_large',\n",
       " 'common_voice',\n",
       " 'coqa',\n",
       " 'cos_e',\n",
       " 'cosmos_qa',\n",
       " 'covid19',\n",
       " 'covid19sum',\n",
       " 'crema_d',\n",
       " 'curated_breast_imaging_ddsm',\n",
       " 'cycle_gan',\n",
       " 'd4rl_adroit_door',\n",
       " 'd4rl_adroit_hammer',\n",
       " 'd4rl_adroit_pen',\n",
       " 'd4rl_adroit_relocate',\n",
       " 'd4rl_mujoco_ant',\n",
       " 'd4rl_mujoco_halfcheetah',\n",
       " 'd4rl_mujoco_hopper',\n",
       " 'd4rl_mujoco_walker2d',\n",
       " 'dart',\n",
       " 'davis',\n",
       " 'deep_weeds',\n",
       " 'definite_pronoun_resolution',\n",
       " 'dementiabank',\n",
       " 'diabetic_retinopathy_detection',\n",
       " 'div2k',\n",
       " 'dmlab',\n",
       " 'doc_nli',\n",
       " 'dolphin_number_word',\n",
       " 'downsampled_imagenet',\n",
       " 'drop',\n",
       " 'dsprites',\n",
       " 'dtd',\n",
       " 'duke_ultrasound',\n",
       " 'e2e_cleaned',\n",
       " 'efron_morris75',\n",
       " 'emnist',\n",
       " 'eraser_multi_rc',\n",
       " 'esnli',\n",
       " 'eurosat',\n",
       " 'fashion_mnist',\n",
       " 'flic',\n",
       " 'flores',\n",
       " 'food101',\n",
       " 'forest_fires',\n",
       " 'fuss',\n",
       " 'gap',\n",
       " 'geirhos_conflict_stimuli',\n",
       " 'gem',\n",
       " 'genomics_ood',\n",
       " 'german_credit_numeric',\n",
       " 'gigaword',\n",
       " 'glue',\n",
       " 'goemotions',\n",
       " 'gpt3',\n",
       " 'gref',\n",
       " 'groove',\n",
       " 'gtzan',\n",
       " 'gtzan_music_speech',\n",
       " 'hellaswag',\n",
       " 'higgs',\n",
       " 'horses_or_humans',\n",
       " 'howell',\n",
       " 'i_naturalist2017',\n",
       " 'imagenet2012',\n",
       " 'imagenet2012_corrupted',\n",
       " 'imagenet2012_multilabel',\n",
       " 'imagenet2012_real',\n",
       " 'imagenet2012_subset',\n",
       " 'imagenet_a',\n",
       " 'imagenet_r',\n",
       " 'imagenet_resized',\n",
       " 'imagenet_v2',\n",
       " 'imagenette',\n",
       " 'imagewang',\n",
       " 'imdb_reviews',\n",
       " 'irc_disentanglement',\n",
       " 'iris',\n",
       " 'kddcup99',\n",
       " 'kitti',\n",
       " 'kmnist',\n",
       " 'lambada',\n",
       " 'lfw',\n",
       " 'librispeech',\n",
       " 'librispeech_lm',\n",
       " 'libritts',\n",
       " 'ljspeech',\n",
       " 'lm1b',\n",
       " 'lost_and_found',\n",
       " 'lsun',\n",
       " 'lvis',\n",
       " 'malaria',\n",
       " 'math_dataset',\n",
       " 'mctaco',\n",
       " 'mlqa',\n",
       " 'mnist',\n",
       " 'mnist_corrupted',\n",
       " 'movie_lens',\n",
       " 'movie_rationales',\n",
       " 'movielens',\n",
       " 'moving_mnist',\n",
       " 'multi_news',\n",
       " 'multi_nli',\n",
       " 'multi_nli_mismatch',\n",
       " 'natural_questions',\n",
       " 'natural_questions_open',\n",
       " 'newsroom',\n",
       " 'nsynth',\n",
       " 'nyu_depth_v2',\n",
       " 'ogbg_molpcba',\n",
       " 'omniglot',\n",
       " 'open_images_challenge2019_detection',\n",
       " 'open_images_v4',\n",
       " 'openbookqa',\n",
       " 'opinion_abstracts',\n",
       " 'opinosis',\n",
       " 'opus',\n",
       " 'oxford_flowers102',\n",
       " 'oxford_iiit_pet',\n",
       " 'para_crawl',\n",
       " 'patch_camelyon',\n",
       " 'paws_wiki',\n",
       " 'paws_x_wiki',\n",
       " 'pet_finder',\n",
       " 'pg19',\n",
       " 'piqa',\n",
       " 'places365_small',\n",
       " 'plant_leaves',\n",
       " 'plant_village',\n",
       " 'plantae_k',\n",
       " 'protein_net',\n",
       " 'qa4mre',\n",
       " 'qasc',\n",
       " 'quac',\n",
       " 'quickdraw_bitmap',\n",
       " 'race',\n",
       " 'radon',\n",
       " 'reddit',\n",
       " 'reddit_disentanglement',\n",
       " 'reddit_tifu',\n",
       " 'ref_coco',\n",
       " 'resisc45',\n",
       " 'rlu_atari',\n",
       " 'rlu_dmlab_explore_object_rewards_few',\n",
       " 'rlu_dmlab_explore_object_rewards_many',\n",
       " 'rlu_dmlab_rooms_select_nonmatching_object',\n",
       " 'rlu_dmlab_rooms_watermaze',\n",
       " 'rlu_dmlab_seekavoid_arena01',\n",
       " 'robonet',\n",
       " 'rock_paper_scissors',\n",
       " 'rock_you',\n",
       " 's3o4d',\n",
       " 'salient_span_wikipedia',\n",
       " 'samsum',\n",
       " 'savee',\n",
       " 'scan',\n",
       " 'scene_parse150',\n",
       " 'schema_guided_dialogue',\n",
       " 'scicite',\n",
       " 'scientific_papers',\n",
       " 'sentiment140',\n",
       " 'shapes3d',\n",
       " 'siscore',\n",
       " 'smallnorb',\n",
       " 'snli',\n",
       " 'so2sat',\n",
       " 'speech_commands',\n",
       " 'spoken_digit',\n",
       " 'squad',\n",
       " 'stanford_dogs',\n",
       " 'stanford_online_products',\n",
       " 'star_cfq',\n",
       " 'starcraft_video',\n",
       " 'stl10',\n",
       " 'story_cloze',\n",
       " 'summscreen',\n",
       " 'sun397',\n",
       " 'super_glue',\n",
       " 'svhn_cropped',\n",
       " 'symmetric_solids',\n",
       " 'tao',\n",
       " 'ted_hrlr_translate',\n",
       " 'ted_multi_translate',\n",
       " 'tedlium',\n",
       " 'tf_flowers',\n",
       " 'the300w_lp',\n",
       " 'tiny_shakespeare',\n",
       " 'titanic',\n",
       " 'trec',\n",
       " 'trivia_qa',\n",
       " 'tydi_qa',\n",
       " 'uc_merced',\n",
       " 'ucf101',\n",
       " 'vctk',\n",
       " 'visual_domain_decathlon',\n",
       " 'voc',\n",
       " 'voxceleb',\n",
       " 'voxforge',\n",
       " 'waymo_open_dataset',\n",
       " 'web_nlg',\n",
       " 'web_questions',\n",
       " 'wider_face',\n",
       " 'wiki40b',\n",
       " 'wiki_bio',\n",
       " 'wiki_table_questions',\n",
       " 'wiki_table_text',\n",
       " 'wikiann',\n",
       " 'wikihow',\n",
       " 'wikipedia',\n",
       " 'wikipedia_toxicity_subtypes',\n",
       " 'wine_quality',\n",
       " 'winogrande',\n",
       " 'wmt13_translate',\n",
       " 'wmt14_translate',\n",
       " 'wmt15_translate',\n",
       " 'wmt16_translate',\n",
       " 'wmt17_translate',\n",
       " 'wmt18_translate',\n",
       " 'wmt19_translate',\n",
       " 'wmt_t2t_translate',\n",
       " 'wmt_translate',\n",
       " 'wordnet',\n",
       " 'wsc273',\n",
       " 'xnli',\n",
       " 'xquad',\n",
       " 'xsum',\n",
       " 'xtreme_pawsx',\n",
       " 'xtreme_xnli',\n",
       " 'yelp_polarity_reviews',\n",
       " 'yes_no',\n",
       " 'youtube_vis']"
      ]
     },
     "execution_count": 5,
     "metadata": {},
     "output_type": "execute_result"
    }
   ],
   "source": [
    "tfds.list_builders()"
   ]
  },
  {
   "cell_type": "code",
   "execution_count": 78,
   "id": "8fcd90af",
   "metadata": {},
   "outputs": [],
   "source": [
    "train_set_raw = tfds.load(\"imdb_reviews\", split='train[70%:]', as_supervised=True)\n",
    "test_set_raw = tfds.load(\"imdb_reviews\", split='test', as_supervised=True)"
   ]
  },
  {
   "cell_type": "code",
   "execution_count": 79,
   "id": "7df1f662",
   "metadata": {},
   "outputs": [
    {
     "data": {
      "text/plain": [
       "<TakeDataset shapes: ((), ()), types: (tf.string, tf.int64)>"
      ]
     },
     "execution_count": 79,
     "metadata": {},
     "output_type": "execute_result"
    }
   ],
   "source": [
    "train_set_raw.take(3)"
   ]
  },
  {
   "cell_type": "code",
   "execution_count": 80,
   "id": "74caa945",
   "metadata": {},
   "outputs": [
    {
     "data": {
      "text/plain": [
       "<tf.Tensor: shape=(10,), dtype=string, numpy=\n",
       "array([b\"Nine out of ten might seem like a high mark to give for a straight to video sci-fi movie that's been vilified at the US box office and roundly criticized as the poorest movie of Kurt Russell's career.<br /><br />I have my reasons.<br /><br />Firstly when you read negative reviews of this film, they usually start with the wooden nature of Russell's interpretation of Todd, the eponymous Soldier. I'm going to start here too, with my surprising statement that this is possibly the finest piece of acting I've seen Russell pull off. Todd is an emotional cripple and suffering from intense PTSD - this movie being written before the phenomenon was as widely recognized as it is now.<br /><br />The portrayal is spot on. Todd is withdrawn, uncommunicative and a loner. He suffers from irrational anxiety - keyed to a fever pitch by training that teaches him to analyze every movement and interaction with another human being for signs of betrayal and danger. His hyper-focus brings with it an inability to comprehend the bigger continuum that the tasks he is given to do sit within - there is a scene where he cuts himself slicing carrots and continues to work unfazed, not cleaning up the cut or the blood. Many interpret this as a sign of his physical toughness and focus on the job at hand, but it is also a sign that he is simply performing the requested task by rote - not comprehending the relationship between the vegetables he's preparing and the food that will be eaten later.<br /><br />Todd's dialog is spartan to say the least - the two big talking scenes he gets are central to the plot of the movie and both underline the bleak nature of his existence. Fear and Discipline we are told. Always. Fear to keep him pumped up to a hyper alert state where the smallest detail will not pass him by, keeping him ready to react on a knife edge. Discipline to hold him in check through his fear, to overcome it and perform tactically. The inference is that he has no time to think and cannot afford feelings. Many viewers have different interpretations of his reaction to the hug from Nielsen's Sandra - but I believe you have to interpret it from the perspective of a human who's only experience of an embrace is in combat - the trembling represents him suppressing his fight / flight instincts reacting to the fear of being grappled, his movement and vision restricted - Fear and Discipline indeed.<br /><br />Then there is the subtext of his abandonment (Twice in fact) - so representative of the way our society tends to toss infantrymen onto the rubbish heap of society when they've served their terms. 40% of the unemployed are ex-military in OUR world, in HIS it can only be worse. Russell quickly picks up the mantle of Mace's responsibility to his wife and child - desperately in need of a mission, even one with such a high likelihood of his death.<br /><br />Then there is the military subtext too - the conflict between Busey's Church and the hotshot from HQ, Mekum. Mekum's new men are faster, stronger, more accurate and aggressive. Any one of them could pound Todd into the ground - but it's not about the tools you have it's how you use them. An incentivized Todd given the freedom to exercise his initiative and acting without the numbing effect of perceived superiority utilizes ambush tactics and sneaky tricks to cut a swathe through the newer unit - sent in without support, cover or reconnaissance. It is a reminder that military power cannot make up for a failure in leadership.<br /><br />There are many other subtle themes. When a film is shot and scripted so minimally, it leaves plenty of white space for your own interpretations to take root. Watch Soldier with an open mind and see what it teaches YOU.\",\n",
       "       b'This film is actually pertinent even today given the threat of bio-terrorism, and the threats of superbugs, West Nile Virus, and SARS. As a thriller, the tension is fairly intense. Richard Widmark and Paul Douglas are more than serviceable in their roles. The domestic scenes between Widmark and his wife provide a nice interlude to the main plot. The actor in this film who most left his mark is Jack Palance. His sharply defined features and seemingly easygoing exterior always wither way to reveal the avaricious and cruel man beneath the surface. The chase scene through the packing plant is impressive even today. Recommended, 7/10.',\n",
       "       b'This horrendously bad piece of trash manages to be racist, sexist and homophobic all at once, while pretending to be terribly chic and sophisticated. Atrocious performances, a cliche ridden screenplay, and boring direction make this movie one to steer clear of. Two scenes were especially offensive - the one in which Schaech scrubs his tongue after being kissed by another man (could it really have been that gross), and the scene where Eastwood is kissed by Schaech\\'s best friend, who is pretending to be Russian. After he leaves the room she exclaims \"f**king foreigners\"! So much for her being a cultured artist who dreams of living in Paris!?!<br /><br />Jonathon Schaech can be a likeable actor on screen, and is astonishingly good-looking. It\\'s a shame he didn\\'t learn more from working with cutting edge gay director Gregg Araki on an earlier film, and try to salvage this film from descending into a string of gay stereotypes and a mire of homophobia.',\n",
       "       b'Recently, I had opportunity to view a working print in Kansas City (Olathe, KS.) of this title. It is difficult for me, being a lover of the art as I am, to report the following, but, the truth sometimes hurts, and quite frankly after sitting through this tripe (I\\'m using the slang definition here - worthless statements or writing) for an hour and a half, I feel obligated to share (WARN) any interested parties. Let\\'s begin at the beginning, a good place to start as always. The first 15 minutes are not really that bad, a couple of laughs, and decent development, but then it is downhill from there. This is the story of a woman, in her mid thirties, that (as the writer would like for you to believe) is dissatisfied with her life and unfulfilled. The first major difficulty occurs when if you don\\'t know that fact going into the movie, you won\\'t know it when she suddenly risks it all for, in my opinion, a very unkempt and unlikely fling with a local salesman. There is little development (drastically insufficient development) to justify her actions for the affair she has, and when it occurs, one feels, as I did, that she is just of low moral character. The word \"slut\" comes to mind, hopefully, they\\'ll let that pass the review and post the comment. This, in my opinion, is the first fatal flaw of the film. If you\\'re married or have ever been in love, irregardless of whether you are male or female, its going to turn you off. Quite frankly, I feel that it would have made a much better \"blue movie\" - that\\'s the level in my opinion of which the screenplay is deserving. The second fatal flaw is the casting, Diane Lane just didn\\'t work for me here, and Viggo Mortensen is not the right man for the job, believe me. The only saving grace to the entire film is Anna Paquin, the depth of her ability as a fine actress shines in places, conveying a subtle yet very blunt (I apologize for the dichotomy but it is accurate) portrayal of an emerging teen. Bravo, well done. I\\'m not going to give the ending away, but I was disappointed, being billed as a slice of life romance is one thing... but an ending like that.... Well, if that teased you enough to see this picture, don\\'t say I didn\\'t warn you, but you better look fast - if this celluloid is released, I doubt it goes four weeks before bursting into flames. I\\'d say wait for the video, but the free sex education tapes at most video rental outlets have more entertainment value. Hmmm, Dustin Hoffman produced this, you think he\\'d learn after Ishtar. This film once carried the working title \"Blouse Man\" and should have been left on the rack. If you\\'ve never in your life wanted to walk out on a film, give this one 35-40 minutes, the only thing worth staying for is Anna Paquin, if you can stomach the fact that you\\'ll find your mind drifting to whether or not you took out the garbage before you left home, which is probably where you should have stayed in the first place if you\\'re off to the movies to see this one. That\\'s my two cents, for what it is worth.',\n",
       "       b\"I really do not know what people have against this film, but it's definitely one of my favourites. It's not preachy, it's not anchored by it's moral, it shouldn't be controversial. It's just God. Any possible God, no matter the religion. And it's really funny.<br /><br />Jim Carry plays Bruce Nolan, a TV reporter usually stuck on the lighter side of the news, desperate to prove himself (more or less TO himself) that he can be taken seriously and do a good job in an anchor job. This drive is what is slowly driving his beautiful girlfriend Grace (Jennifer Aniston) away. When the final straws are executed, he's quick to not laugh, but yell in the face of God, who in turn gives Bruce his powers. Bruce then makes his life better for himself, until he's guilted into helping others, where he then continues to miss the point of his powers. Meanwhile, his constant excitement about his own life makes him more selfish, leaving his relationship on dangerous ground.<br /><br />OK, that was kinda long. But as a plot, it works well. The step-by-step fashion in which we meet the challenges of being God is much better than clustering his problems together, and is able to hide itself fairly well.<br /><br />As you probably know from hearing about this movie in the first place, Carrey's pitch-perfect acting stays in character (which, luckily enough, is him), and controls and gives atmosphere to the movie scene by scene. Whether they would admit it or not, the role was written or rewritten exclusively for Carrey. Without him, the humour would turn flat, as humour is half execution. And the humour is very good in the first place. But without Carrey, it would kinda feel like a It's a Wonderful Life wannabe.<br /><br />Jennifer Aniston is great and, no matter what some may say, does not act like the only excuse for the third act. At least, you don't think that when you see her. She gives a heartfelt performance and makes you forget you're watching a movie, she and Carrey feel very much like a real couple.<br /><br />The movie feels ggooooodd (see the movie to understand), has a very nice feeling, tackles the idea appropriately and better than expected and overall should never have been called slapped together just to save Carrey's career (which wasn't goin' anywhere.).\",\n",
       "       b'What an insult to the SA film industry! I have seen better SA films. The comments I read about Hijack Stories,by saying it is worthy of a ten out of ten is quite scary. A movie\\'s rating should not depend on.., \"OH, A MOVIE FROM A DEVELOPING COUNTRY. LETS BOOST THEIR INDUSTRY BY SAYING NICE THINGS ABOUT THEIR WORK, EVEN THOUGH IT IS BAD.\" We have the expertise to make good movies. Don\\'t judge the film industry on what people say how great they think Hijack Stories is. We can tell great stories such as Cry the beloved Country and Shaka Zulu. Cry the beloved Country I\\'ll give 9 out of 10. Great directing by Darryl, great acting by two great elderly actors, irrespective from where they are. Hijack Stories.., I\\'ll give 1 out of 10. It could only be people involved in the project who would give it high scores. I would\\'ve done the same if it was my movie.',\n",
       "       b'Semana Santa is jaw-droppingly bad. It\\'s so wrong in so many ways I don\\'t where to begin. So, let\\'s see...Mira Sorvino, whose judge husband has been shot while protecting her, goes from Madrid to Seville for her cop job. During the holy week (Semana santa, see?...everybody begins to fall sleep..told u it was bad in so many points, even from the beginning), a killer executes his victims like bulls in a bullfighting arena. She teams up with male chauvinist pig Olivier Martinez and nice Feodor Atkine. Soon she discovers she\\'ll be the next target of the killer (who wears a red robe). Why, oh but why?<br /><br />Why..;that\\'s the questionthat has been in my head the whole movie.<br /><br />Q :Why did go to see that A : Because i love Mira Sorvino (i even excuse her for that AT FIRST SIGHT crap)<br /><br />Q : Why were we only 8 people in the theater this saturday on the first week end of release? A : ah-ah-ah. Spider-man got relaesed the same day. But also the fact that the movie has been blast with execrable reviews.<br /><br />Q : Why this movie has been made? A : Money I guess. But boy did Mira need the money.<br /><br />then...why???????????? first of all, there\\'s always something wrong with european co-productions. here you got a french-english-german-italian-spanish-danish production. yi-ha.<br /><br />Then it wants to play on the same playgroung as US thrillers/slashers/whodunit/mysteries/whatever. Even VALENTINE, though unnecessary and badly scripted and shot, was much better in the suspense and the fun.<br /><br />Then , to give some credit to the story, the screenwriter wanted to add some political sight to the story. Wrong : done in flash-backs in a Traffic-like photography, it\\'s certainly the most interesting thing i n the movie. Could have stick to it, it wouldn\\'t have to sit through the whole movie. Better go straight to Guillermo del Tros\\'s THE DEVIL\\'S BACKBONE (El espinazo del diablo)for some clever fun.<br /><br />Then the homophobia. Bullseye! The first victims are S&M drug addicted gay twins who got stabbed to death. The annoying olivier Martinez goes to a dating agency held by a badly shaved overweight transvestive with a blond platinum wig. Calls mira Sorvino\\'s character a big dyke all the time. Do we need this kind of stuff? Nah. Just needless offensive remarks, just like ol\\'times.<br /><br />Then the suspense. Yipee. No apparent motive. The first murders are plain illusion as they\\'re a representation of a famous painting. But no. And the revelation of the killer (a horrible fascist, of course) could have been done from the beginning as he appears at the end of the movie as, I guess, it was time for the director to say \"weel, time to finish that damn movie. let\\'s reveal right now who the killer is and why he kills\".<br /><br />Then the director thinks he\\'s a director. Wrong : no sense of suspense, no sense of directing the actors, no knowledge of change of pace. A Giant, mega-bore. The scenes of the holy week are needless (maybe a co-production rule saying : ok, shoot in Sevilla but show some creditsof this beautiful and historical town with the celebrations of Easter. There we are : a mystery movie for tourists!)<br /><br />Then the actors. All wrongs. Mira Sorvino bores herself to death : she does practicly nothing except getting stabbed in the right hand. Everything she did best (the Replacement Killers, Mighty Aphrodite...) were like they never existed. Olivier Martinez...hello, anybody here? When the producers will learn that he\\'s not an actor but a mannequin with no ability of speech nor feelings? Feodor Atkine, bland and transparent. Only do we pay great respect to Alida Valli, one of the greatest actress this last century (and I hope for some more roles in this current one). She\\'s tha main attraction here as she\\'s the only one to give life to her poor lines. I won\\'t mention the other actors as they\\'re only one-sided characters, uninteresting and shallow.<br /><br />Incoherent direction, inconsistent actors, implausible plot. Idiocy incarnated.<br /><br />Superwonderscope says : 1<br /><br />',\n",
       "       b'This is a very interesting project which could have been quite brilliant. Gathering 11 prominent international directors and allotting each of them 11 minutes, 9 seconds and 1 frame to create a segment of their choice; each short exploring the global reverberations of 9/11. Without using any spoilers, I would say that Ken Loach\\'s piece is the jewel in the crown, and Mira Nair\\'s short (segment \"India\"), based on a true story, deserves to be made into a full feature film. One also realizes, while watching his short, why Alejandro Gonz\\xc3\\xa1lez I\\xc3\\xb1\\xc3\\xa1rritu is one of the best directors in the world today \\xc2\\x96 he simply is a master of the medium, who has also a profound understanding of the subject matter. Unfortunately, not all 11 parts are made as well. Youssef Chahine, in his segment \"Egypt\", assumes the Arab stance of the self-inflicted collective guilt, which piece could have potentially been the most interesting one. He fails miserably. Chahine\\'s short is poorly written and badly executed, at least enough to stand out amongst other, superior chapters of the film. Despite the imbalance in quality, I would still give the film 7/10 for concept, if not for execution.',\n",
       "       b\"Sandwiched in between San Francisco and Captains Courageous two of Spencer Tracy's greatest parts is this very curious film about war and the effects it has on some people. They Gave Him A Gun stars Spencer Tracy and Franchot Tone in the only film they ever made together and Gladys George as the woman who loves them both.<br /><br />Tracy and Tone are a couple of World War I draftees, Tone is a weak character who almost goes over the hill in boot camp, but Tracy stops him. Tracy is still playing the lovable blowhard, younger Wallace Beery type that MGM envisioned for him when they signed him away from Fox. <br /><br />Over at the front Tone gets an opportunity and takes it when during a fight he manages to get to a church tower that peers down on a German machine gun nest. He's learned to shoot by now and he does a Sergeant York. But Alvin C. York was never changed by the war the way Tone has.<br /><br />Wounded in the fight Tone convalesces at a hospital with Gladys George looking out for him. Tracy goes AWOL himself to visit his pal and he and George get something going. Later on when Tracy is reported missing in action, Tone and George marry. Tracy's brokenhearted when he comes back and learns of the marriage, but takes sit in stride. <br /><br />The rest of the film is dealing with Tone applying the the wartime skills he's learned to the gangster trade. He's a hit-man now and George doesn't really know what he does for a living. I think you can figure the rest out.<br /><br />The part of the film that gave me some trouble is that I can't believe Gladys George couldn't figure it out. She's a street smart girl, her part is very much like the one she played in The Roaring Twenties opposite James Cagney.<br /><br />Speaking of The Roaring Twenties, Humphrey Bogart's character development there is similar to Tone's although he was not the central character of the movie. In fact there are elements of They Gave Him A Gun that are to be found in Taxi Driver and in Clint Eastwood's classic, The Unforgiven. <br /><br />The World War I battle sequences are very well staged by director Woody Van Dyke. For some reason Leonard Maltin panned this film, I think it's a lot better than he gave it credit.\",\n",
       "       b\"I must admit, there are few books with corresponding movies that I have actually read before seeing the cinematic adaptation. Nineteen Eighty-Four happens to be one of those rare cases. The book was great. It was immersive and interestingly prophetic. But the movie just plain sucked. It is easily the worst film I have ever seen. The only reason I didn't turn it off after the first 5 minutes was the fact that watching the movie was half of a two-part assignment for a class. It was dark and grotesque, but did nothing in the way of achieving the proper atmosphere. The acting was nothing above average, and considering the fact that there wasn't much to act out, this was severely disappointing. The book, for example, didn't give me the impression that Winston was unable to blurt out more than a single syllable at a time. Boring, disturbing, and visually unappealing, the movie totally cannibalized the book. Wait a second...Isn't it British?\"],\n",
       "      dtype=object)>"
      ]
     },
     "execution_count": 80,
     "metadata": {},
     "output_type": "execute_result"
    }
   ],
   "source": [
    "\n",
    "train_examples_batch,train_labels_batch = next(iter(train_set_raw.batch(10)))\n",
    "train_examples_batch\n"
   ]
  },
  {
   "cell_type": "code",
   "execution_count": 81,
   "id": "806b6920",
   "metadata": {},
   "outputs": [
    {
     "data": {
      "text/plain": [
       "<tf.Tensor: shape=(10,), dtype=int64, numpy=array([1, 1, 0, 0, 1, 0, 0, 1, 1, 0], dtype=int64)>"
      ]
     },
     "execution_count": 81,
     "metadata": {},
     "output_type": "execute_result"
    }
   ],
   "source": [
    "train_labels_batch"
   ]
  },
  {
   "cell_type": "code",
   "execution_count": 82,
   "id": "9459d0fb",
   "metadata": {},
   "outputs": [],
   "source": [
    "pretrained_model = \"https://tfhub.dev/google/tf2-preview/gnews-swivel-20dim/1\"\n",
    "hub_layer = hub.KerasLayer(pretrained_model, input_shape=[], dtype=tf.string, trainable=True)"
   ]
  },
  {
   "cell_type": "code",
   "execution_count": 83,
   "id": "98c0d1de",
   "metadata": {},
   "outputs": [
    {
     "data": {
      "text/plain": [
       "<tf.Tensor: shape=(2, 20), dtype=float32, numpy=\n",
       "array([[ 4.7923617 , -4.525794  ,  7.1313257 ,  0.21008398, -2.6384459 ,\n",
       "        -5.4846916 , -2.050298  ,  3.532944  ,  4.2297544 , -2.9579313 ,\n",
       "        -2.2863336 ,  1.6684309 , -2.6761084 , -0.3572238 , -6.342297  ,\n",
       "         3.9719656 ,  8.341165  , -4.8317847 , -6.654334  , -2.5732622 ],\n",
       "       [ 2.5741632 , -0.8085664 ,  2.2234964 , -1.6681693 , -0.12159869,\n",
       "        -0.474802  , -0.8598956 ,  0.5045804 ,  1.9454796 , -2.8245873 ,\n",
       "        -0.97832465,  0.39860973, -1.2733508 , -1.0127535 , -1.6692569 ,\n",
       "         1.9692352 ,  0.4376294 , -0.91439754, -2.7024016 , -0.53923404]],\n",
       "      dtype=float32)>"
      ]
     },
     "execution_count": 83,
     "metadata": {},
     "output_type": "execute_result"
    }
   ],
   "source": [
    "hub_layer(train_examples_batch[:2])"
   ]
  },
  {
   "cell_type": "code",
   "execution_count": 84,
   "id": "59a19489",
   "metadata": {},
   "outputs": [
    {
     "data": {
      "text/plain": [
       "<tf.Tensor: shape=(2,), dtype=string, numpy=\n",
       "array([b\"Nine out of ten might seem like a high mark to give for a straight to video sci-fi movie that's been vilified at the US box office and roundly criticized as the poorest movie of Kurt Russell's career.<br /><br />I have my reasons.<br /><br />Firstly when you read negative reviews of this film, they usually start with the wooden nature of Russell's interpretation of Todd, the eponymous Soldier. I'm going to start here too, with my surprising statement that this is possibly the finest piece of acting I've seen Russell pull off. Todd is an emotional cripple and suffering from intense PTSD - this movie being written before the phenomenon was as widely recognized as it is now.<br /><br />The portrayal is spot on. Todd is withdrawn, uncommunicative and a loner. He suffers from irrational anxiety - keyed to a fever pitch by training that teaches him to analyze every movement and interaction with another human being for signs of betrayal and danger. His hyper-focus brings with it an inability to comprehend the bigger continuum that the tasks he is given to do sit within - there is a scene where he cuts himself slicing carrots and continues to work unfazed, not cleaning up the cut or the blood. Many interpret this as a sign of his physical toughness and focus on the job at hand, but it is also a sign that he is simply performing the requested task by rote - not comprehending the relationship between the vegetables he's preparing and the food that will be eaten later.<br /><br />Todd's dialog is spartan to say the least - the two big talking scenes he gets are central to the plot of the movie and both underline the bleak nature of his existence. Fear and Discipline we are told. Always. Fear to keep him pumped up to a hyper alert state where the smallest detail will not pass him by, keeping him ready to react on a knife edge. Discipline to hold him in check through his fear, to overcome it and perform tactically. The inference is that he has no time to think and cannot afford feelings. Many viewers have different interpretations of his reaction to the hug from Nielsen's Sandra - but I believe you have to interpret it from the perspective of a human who's only experience of an embrace is in combat - the trembling represents him suppressing his fight / flight instincts reacting to the fear of being grappled, his movement and vision restricted - Fear and Discipline indeed.<br /><br />Then there is the subtext of his abandonment (Twice in fact) - so representative of the way our society tends to toss infantrymen onto the rubbish heap of society when they've served their terms. 40% of the unemployed are ex-military in OUR world, in HIS it can only be worse. Russell quickly picks up the mantle of Mace's responsibility to his wife and child - desperately in need of a mission, even one with such a high likelihood of his death.<br /><br />Then there is the military subtext too - the conflict between Busey's Church and the hotshot from HQ, Mekum. Mekum's new men are faster, stronger, more accurate and aggressive. Any one of them could pound Todd into the ground - but it's not about the tools you have it's how you use them. An incentivized Todd given the freedom to exercise his initiative and acting without the numbing effect of perceived superiority utilizes ambush tactics and sneaky tricks to cut a swathe through the newer unit - sent in without support, cover or reconnaissance. It is a reminder that military power cannot make up for a failure in leadership.<br /><br />There are many other subtle themes. When a film is shot and scripted so minimally, it leaves plenty of white space for your own interpretations to take root. Watch Soldier with an open mind and see what it teaches YOU.\",\n",
       "       b'This film is actually pertinent even today given the threat of bio-terrorism, and the threats of superbugs, West Nile Virus, and SARS. As a thriller, the tension is fairly intense. Richard Widmark and Paul Douglas are more than serviceable in their roles. The domestic scenes between Widmark and his wife provide a nice interlude to the main plot. The actor in this film who most left his mark is Jack Palance. His sharply defined features and seemingly easygoing exterior always wither way to reveal the avaricious and cruel man beneath the surface. The chase scene through the packing plant is impressive even today. Recommended, 7/10.'],\n",
       "      dtype=object)>"
      ]
     },
     "execution_count": 84,
     "metadata": {},
     "output_type": "execute_result"
    }
   ],
   "source": [
    "train_examples_batch[:2]"
   ]
  },
  {
   "cell_type": "code",
   "execution_count": 85,
   "id": "73eda39d",
   "metadata": {},
   "outputs": [
    {
     "name": "stdout",
     "output_type": "stream",
     "text": [
      "Model: \"sequential_3\"\n",
      "_________________________________________________________________\n",
      "Layer (type)                 Output Shape              Param #   \n",
      "=================================================================\n",
      "keras_layer_3 (KerasLayer)   (None, 20)                400020    \n",
      "_________________________________________________________________\n",
      "dense_6 (Dense)              (None, 16)                336       \n",
      "_________________________________________________________________\n",
      "dense_7 (Dense)              (None, 1)                 17        \n",
      "=================================================================\n",
      "Total params: 400,373\n",
      "Trainable params: 400,373\n",
      "Non-trainable params: 0\n",
      "_________________________________________________________________\n"
     ]
    }
   ],
   "source": [
    "model = tf.keras.Sequential()\n",
    "model.add(hub_layer)\n",
    "model.add(tf.keras.layers.Dense(16,activation=\"relu\"))\n",
    "model.add(tf.keras.layers.Dense(1,activation=\"sigmoid\"))\n",
    "model.summary()"
   ]
  },
  {
   "cell_type": "code",
   "execution_count": 90,
   "id": "dddc2083",
   "metadata": {},
   "outputs": [],
   "source": [
    "model.compile(optimizer='adam',\n",
    "              loss='binary_crossentropy',\n",
    "              metrics=['accuracy'])"
   ]
  },
  {
   "cell_type": "code",
   "execution_count": 91,
   "id": "d53bbfc1",
   "metadata": {},
   "outputs": [
    {
     "name": "stdout",
     "output_type": "stream",
     "text": [
      "Epoch 1/20\n",
      "15/15 [==============================] - 1s 36ms/step - loss: 0.1766 - accuracy: 0.9416\n",
      "Epoch 2/20\n",
      "15/15 [==============================] - 1s 36ms/step - loss: 0.1668 - accuracy: 0.9452\n",
      "Epoch 3/20\n",
      "15/15 [==============================] - 1s 35ms/step - loss: 0.1571 - accuracy: 0.9497\n",
      "Epoch 4/20\n",
      "15/15 [==============================] - 1s 35ms/step - loss: 0.1489 - accuracy: 0.9539\n",
      "Epoch 5/20\n",
      "15/15 [==============================] - 1s 36ms/step - loss: 0.1413 - accuracy: 0.9573\n",
      "Epoch 6/20\n",
      "15/15 [==============================] - 1s 36ms/step - loss: 0.1338 - accuracy: 0.9596\n",
      "Epoch 7/20\n",
      "15/15 [==============================] - 1s 37ms/step - loss: 0.1259 - accuracy: 0.9637\n",
      "Epoch 8/20\n",
      "15/15 [==============================] - 1s 36ms/step - loss: 0.1193 - accuracy: 0.9671\n",
      "Epoch 9/20\n",
      "15/15 [==============================] - 1s 36ms/step - loss: 0.1126 - accuracy: 0.9696\n",
      "Epoch 10/20\n",
      "15/15 [==============================] - 1s 36ms/step - loss: 0.1060 - accuracy: 0.9709\n",
      "Epoch 11/20\n",
      "15/15 [==============================] - 1s 37ms/step - loss: 0.1010 - accuracy: 0.9733 0s - loss: 0.1088 - ac\n",
      "Epoch 12/20\n",
      "15/15 [==============================] - 1s 35ms/step - loss: 0.0939 - accuracy: 0.9768 0s - loss: 0.0945 - accura\n",
      "Epoch 13/20\n",
      "15/15 [==============================] - 1s 36ms/step - loss: 0.0880 - accuracy: 0.9796\n",
      "Epoch 14/20\n",
      "15/15 [==============================] - 1s 36ms/step - loss: 0.0829 - accuracy: 0.9827\n",
      "Epoch 15/20\n",
      "15/15 [==============================] - 1s 36ms/step - loss: 0.0775 - accuracy: 0.9845\n",
      "Epoch 16/20\n",
      "15/15 [==============================] - 1s 36ms/step - loss: 0.0730 - accuracy: 0.9869\n",
      "Epoch 17/20\n",
      "15/15 [==============================] - 1s 37ms/step - loss: 0.0682 - accuracy: 0.9881\n",
      "Epoch 18/20\n",
      "15/15 [==============================] - 1s 38ms/step - loss: 0.0642 - accuracy: 0.9891\n",
      "Epoch 19/20\n",
      "15/15 [==============================] - 1s 37ms/step - loss: 0.0606 - accuracy: 0.9900\n",
      "Epoch 20/20\n",
      "15/15 [==============================] - 1s 36ms/step - loss: 0.0569 - accuracy: 0.9913\n"
     ]
    },
    {
     "data": {
      "text/plain": [
       "<keras.callbacks.History at 0x1bbcb8291f0>"
      ]
     },
     "execution_count": 91,
     "metadata": {},
     "output_type": "execute_result"
    }
   ],
   "source": [
    "model.fit(train_set_raw.shuffle(10000).batch(512),\n",
    "         epochs=20)"
   ]
  },
  {
   "cell_type": "code",
   "execution_count": 103,
   "id": "45cf5ca2",
   "metadata": {},
   "outputs": [
    {
     "data": {
      "text/plain": [
       "array([[0.9991082 ],\n",
       "       [0.02137616],\n",
       "       [0.9985489 ]], dtype=float32)"
      ]
     },
     "execution_count": 103,
     "metadata": {},
     "output_type": "execute_result"
    }
   ],
   "source": [
    "model.predict([\"This movie is so amazing, I really liked it!\",\n",
    "              \"Awful movie, such a huge disappointment\",\n",
    "              \"Wonderful and exceptional, I am very impressed\"])"
   ]
  },
  {
   "cell_type": "code",
   "execution_count": 105,
   "id": "359c7572",
   "metadata": {},
   "outputs": [
    {
     "data": {
      "text/plain": [
       "array([[0.28377032]], dtype=float32)"
      ]
     },
     "execution_count": 105,
     "metadata": {},
     "output_type": "execute_result"
    }
   ],
   "source": [
    "model.predict([\"Not big of a fan\"])"
   ]
  },
  {
   "cell_type": "code",
   "execution_count": null,
   "id": "5a9137ea",
   "metadata": {},
   "outputs": [],
   "source": []
  }
 ],
 "metadata": {
  "kernelspec": {
   "display_name": "Python 3",
   "language": "python",
   "name": "python3"
  },
  "language_info": {
   "codemirror_mode": {
    "name": "ipython",
    "version": 3
   },
   "file_extension": ".py",
   "mimetype": "text/x-python",
   "name": "python",
   "nbconvert_exporter": "python",
   "pygments_lexer": "ipython3",
   "version": "3.8.8"
  }
 },
 "nbformat": 4,
 "nbformat_minor": 5
}
